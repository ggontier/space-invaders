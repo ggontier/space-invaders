{
 "cells": [
  {
   "cell_type": "code",
   "execution_count": 6,
   "id": "dying-cornell",
   "metadata": {},
   "outputs": [
    {
     "name": "stdout",
     "output_type": "stream",
     "text": [
      "Using device: cuda:0\n"
     ]
    }
   ],
   "source": [
    "import os\n",
    "import torch\n",
    "import torch.nn as nn\n",
    "import torch.optim as optim\n",
    "import torch.nn.functional as F\n",
    "import torchvision\n",
    "from torchvision import datasets\n",
    "from torch.utils.data import DataLoader, random_split\n",
    "import torchvision.transforms as transforms\n",
    "import numpy as np\n",
    "import matplotlib.pyplot as plt\n",
    "import seaborn as sns\n",
    "from tqdm.notebook import tqdm\n",
    "import random\n",
    "\n",
    "# Set random seeds for reproducibility\n",
    "torch.manual_seed(42)\n",
    "np.random.seed(42)\n",
    "random.seed(42)\n",
    "\n",
    "# Check if GPU is available\n",
    "# Check for CUDA (NVIDIA GPU) or MPS (Apple Silicon) availability\n",
    "if torch.cuda.is_available():\n",
    "    device = torch.device(\"cuda:0\")\n",
    "elif hasattr(torch.backends, 'mps') and torch.backends.mps.is_available():\n",
    "    device = torch.device(\"mps\")\n",
    "else:\n",
    "    device = torch.device(\"cpu\")\n",
    "print(f\"Using device: {device}\")"
   ]
  },
  {
   "cell_type": "code",
   "execution_count": 4,
   "id": "alert-problem",
   "metadata": {},
   "outputs": [
    {
     "name": "stdout",
     "output_type": "stream",
     "text": [
      "Images renommées !\n"
     ]
    }
   ],
   "source": [
    "# Renommer les images capturées\n",
    "\n",
    "for action in ['LEFT', 'RIGHT', 'FIRE', 'ENTER'] :\n",
    "\n",
    "    dossier_cible = f\"Echantillons/{action}\"  # Dossier dont renommer les images\n",
    "\n",
    "    images = os.listdir(dossier_cible)\n",
    "\n",
    "    for i, image in enumerate(images):\n",
    "        os.rename(os.path.join(dossier_cible, image), os.path.join(dossier_cible, f\"{action}_{i}.jpg\"))\n",
    "\n",
    "print(\"Images renommées !\")"
   ]
  },
  {
   "cell_type": "code",
   "execution_count": 38,
   "id": "french-intelligence",
   "metadata": {},
   "outputs": [
    {
     "name": "stdout",
     "output_type": "stream",
     "text": [
      "Classes détectées : ['ENTER', 'FIRE', 'LEFT', 'RIGHT']\n",
      "Mean: tensor([0.5242, 0.5160, 0.4967])\n",
      "Std: tensor([0.1961, 0.1897, 0.2083])\n"
     ]
    }
   ],
   "source": [
    "# Définir les transformations des images (redimensionnement et normalisation)\n",
    "transform = transforms.Compose([\n",
    "    transforms.Resize((128, 128)),  # Redimensionne les images\n",
    "    transforms.ToTensor()  # Convertit en tenseur PyTorch\n",
    "])\n",
    "\n",
    "# Charger les images depuis les dossiers\n",
    "dataset = datasets.ImageFolder(root=\"Echantillons\", transform=transform, is_valid_file=lambda x: x.endswith(('.jpg')))\n",
    "\n",
    "# Vérifier les classes détectées\n",
    "print(\"Classes détectées :\", dataset.classes)\n",
    "\n",
    "# Créer un DataLoader pour gérer le batching\n",
    "data_loader = DataLoader(dataset, batch_size=32, shuffle=True)\n",
    "\n",
    "# Calculer la moyenne et l'écart type du jeu de données\n",
    "mean = torch.zeros(3)\n",
    "std = torch.zeros(3)\n",
    "num_samples = 0\n",
    "\n",
    "for images, _ in data_loader:\n",
    "    batch_samples = images.size(0)  # Nombre d'images dans le batch\n",
    "    images = images.view(batch_samples, 3, -1)  # Réorganiser pour chaque canal\n",
    "    mean += images.mean(2).sum(0)\n",
    "    std += images.std(2).sum(0)\n",
    "    num_samples += batch_samples\n",
    "\n",
    "mean /= num_samples\n",
    "std /= num_samples\n",
    "\n",
    "print(\"Mean:\", mean)\n",
    "print(\"Std:\", std)"
   ]
  },
  {
   "cell_type": "code",
   "execution_count": 30,
   "id": "involved-harmony",
   "metadata": {},
   "outputs": [
    {
     "data": {
      "text/plain": [
       "(tensor([[[0.6510, 0.6510, 0.6471,  ..., 0.6118, 0.6118, 0.6118],\n",
       "          [0.6510, 0.6510, 0.6549,  ..., 0.6157, 0.6157, 0.6157],\n",
       "          [0.6549, 0.6588, 0.6588,  ..., 0.6196, 0.6157, 0.6157],\n",
       "          ...,\n",
       "          [0.3451, 0.3451, 0.3451,  ..., 0.4588, 0.4549, 0.4549],\n",
       "          [0.3451, 0.3490, 0.3451,  ..., 0.3765, 0.3804, 0.3882],\n",
       "          [0.3451, 0.3490, 0.3451,  ..., 0.2784, 0.2784, 0.2824]],\n",
       " \n",
       "         [[0.6902, 0.6902, 0.6863,  ..., 0.6392, 0.6353, 0.6353],\n",
       "          [0.6902, 0.6902, 0.6941,  ..., 0.6431, 0.6392, 0.6392],\n",
       "          [0.6941, 0.6980, 0.6980,  ..., 0.6431, 0.6392, 0.6392],\n",
       "          ...,\n",
       "          [0.3255, 0.3255, 0.3255,  ..., 0.4510, 0.4471, 0.4510],\n",
       "          [0.3255, 0.3294, 0.3255,  ..., 0.3608, 0.3686, 0.3804],\n",
       "          [0.3255, 0.3294, 0.3255,  ..., 0.2627, 0.2706, 0.2784]],\n",
       " \n",
       "         [[0.6941, 0.6941, 0.6902,  ..., 0.6314, 0.6275, 0.6275],\n",
       "          [0.6941, 0.6941, 0.6980,  ..., 0.6353, 0.6314, 0.6314],\n",
       "          [0.6980, 0.7020, 0.7020,  ..., 0.6353, 0.6314, 0.6314],\n",
       "          ...,\n",
       "          [0.2510, 0.2510, 0.2510,  ..., 0.3490, 0.3451, 0.3490],\n",
       "          [0.2510, 0.2549, 0.2510,  ..., 0.2706, 0.2784, 0.2902],\n",
       "          [0.2510, 0.2549, 0.2510,  ..., 0.1843, 0.1882, 0.1961]]]),\n",
       " 1)"
      ]
     },
     "execution_count": 30,
     "metadata": {},
     "output_type": "execute_result"
    }
   ],
   "source": [
    "## Classes :\n",
    "\n",
    "# 0 = 'ENTER'\n",
    "# 1 = 'FIRE'\n",
    "# 2 = 'LEFT'\n",
    "# 3 = 'RIGHT'"
   ]
  },
  {
   "cell_type": "code",
   "execution_count": 32,
   "id": "heated-particular",
   "metadata": {},
   "outputs": [
    {
     "data": {
      "text/plain": [
       "5635"
      ]
     },
     "execution_count": 32,
     "metadata": {},
     "output_type": "execute_result"
    }
   ],
   "source": [
    "len(dataset)"
   ]
  },
  {
   "cell_type": "code",
   "execution_count": null,
   "id": "running-boundary",
   "metadata": {},
   "outputs": [],
   "source": []
  }
 ],
 "metadata": {
  "kernelspec": {
   "display_name": "Python 3",
   "language": "python",
   "name": "python3"
  },
  "language_info": {
   "codemirror_mode": {
    "name": "ipython",
    "version": 3
   },
   "file_extension": ".py",
   "mimetype": "text/x-python",
   "name": "python",
   "nbconvert_exporter": "python",
   "pygments_lexer": "ipython3",
   "version": "3.9.2"
  }
 },
 "nbformat": 4,
 "nbformat_minor": 5
}
