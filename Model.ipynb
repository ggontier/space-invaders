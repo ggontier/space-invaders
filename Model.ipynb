{
 "cells": [
  {
   "cell_type": "code",
   "execution_count": 1,
   "id": "dying-cornell",
   "metadata": {},
   "outputs": [
    {
     "name": "stdout",
     "output_type": "stream",
     "text": [
      "Using device: cpu\n"
     ]
    }
   ],
   "source": [
    "import os\n",
    "import torch\n",
    "import torch.nn as nn\n",
    "import torch.optim as optim\n",
    "import torch.nn.functional as F\n",
    "import torchvision\n",
    "from torchvision import datasets\n",
    "from torch.utils.data import DataLoader, random_split\n",
    "import torchvision.transforms as transforms\n",
    "import numpy as np\n",
    "import matplotlib.pyplot as plt\n",
    "import seaborn as sns\n",
    "from tqdm.notebook import tqdm\n",
    "import random\n",
    "\n",
    "# Set random seeds for reproducibility\n",
    "torch.manual_seed(42)\n",
    "np.random.seed(42)\n",
    "random.seed(42)\n",
    "\n",
    "# Check if GPU is available\n",
    "# Check for CUDA (NVIDIA GPU) or MPS (Apple Silicon) availability\n",
    "if torch.cuda.is_available():\n",
    "    device = torch.device(\"cuda:0\")\n",
    "elif hasattr(torch.backends, 'mps') and torch.backends.mps.is_available():\n",
    "    device = torch.device(\"mps\")\n",
    "else:\n",
    "    device = torch.device(\"cpu\")\n",
    "print(f\"Using device: {device}\")"
   ]
  },
  {
   "cell_type": "code",
   "execution_count": 7,
   "id": "alert-problem",
   "metadata": {},
   "outputs": [
    {
     "ename": "FileExistsError",
     "evalue": "[WinError 183] Impossible de créer un fichier déjà existant: 'Echantillons/LEFT\\\\LEFT_10.jpg' -> 'Echantillons/LEFT\\\\LEFT_2.jpg'",
     "output_type": "error",
     "traceback": [
      "\u001b[1;31m---------------------------------------------------------------------------\u001b[0m",
      "\u001b[1;31mFileExistsError\u001b[0m                           Traceback (most recent call last)",
      "Cell \u001b[1;32mIn[7], line 10\u001b[0m\n\u001b[0;32m      7\u001b[0m     images \u001b[38;5;241m=\u001b[39m os\u001b[38;5;241m.\u001b[39mlistdir(dossier_cible)\n\u001b[0;32m      9\u001b[0m     \u001b[38;5;28;01mfor\u001b[39;00m i, image \u001b[38;5;129;01min\u001b[39;00m \u001b[38;5;28menumerate\u001b[39m(images):\n\u001b[1;32m---> 10\u001b[0m         os\u001b[38;5;241m.\u001b[39mrename(os\u001b[38;5;241m.\u001b[39mpath\u001b[38;5;241m.\u001b[39mjoin(dossier_cible, image), os\u001b[38;5;241m.\u001b[39mpath\u001b[38;5;241m.\u001b[39mjoin(dossier_cible, \u001b[38;5;124mf\u001b[39m\u001b[38;5;124m\"\u001b[39m\u001b[38;5;132;01m{\u001b[39;00maction\u001b[38;5;132;01m}\u001b[39;00m\u001b[38;5;124m_\u001b[39m\u001b[38;5;132;01m{\u001b[39;00mi\u001b[38;5;132;01m}\u001b[39;00m\u001b[38;5;124m.jpg\u001b[39m\u001b[38;5;124m\"\u001b[39m))\n\u001b[0;32m     12\u001b[0m \u001b[38;5;28mprint\u001b[39m(\u001b[38;5;124m\"\u001b[39m\u001b[38;5;124mImages renommées !\u001b[39m\u001b[38;5;124m\"\u001b[39m)\n",
      "\u001b[1;31mFileExistsError\u001b[0m: [WinError 183] Impossible de créer un fichier déjà existant: 'Echantillons/LEFT\\\\LEFT_10.jpg' -> 'Echantillons/LEFT\\\\LEFT_2.jpg'"
     ]
    }
   ],
   "source": [
    "# Renommer les images capturées\n",
    "\n",
    "# for action in ['LEFT', 'RIGHT', 'FIRE', 'ENTER'] :\n",
    "\n",
    "  #  dossier_cible = f\"Echantillons/{action}\"  # Dossier dont renommer les images\n",
    "\n",
    "   # images = os.listdir(dossier_cible)\n",
    "\n",
    "   # for i, image in enumerate(images):\n",
    "    #    os.rename(os.path.join(dossier_cible, image), os.path.join(dossier_cible, f\"{action}_{i}.jpg\"))\n",
    "\n",
    "# print(\"Images renommées !\")"
   ]
  },
  {
   "cell_type": "code",
   "execution_count": 3,
   "id": "french-intelligence",
   "metadata": {},
   "outputs": [
    {
     "name": "stdout",
     "output_type": "stream",
     "text": [
      "Classes détectées : ['ENTER', 'FIRE', 'LEFT', 'RIGHT']\n",
      "Mean: tensor([0.5242, 0.5160, 0.4967])\n",
      "Std: tensor([0.1961, 0.1897, 0.2083])\n"
     ]
    }
   ],
   "source": [
    "# Définir les transformations des images (redimensionnement et normalisation)\n",
    "transform = transforms.Compose([\n",
    "    transforms.Resize((128, 128)),  # Redimensionne les images\n",
    "    transforms.ToTensor()  # Convertit en tenseur PyTorch\n",
    "])\n",
    "\n",
    "# Charger les images depuis les dossiers\n",
    "dataset = datasets.ImageFolder(root=\"Echantillons\", transform=transform, is_valid_file=lambda x: x.endswith(('.jpg')))\n",
    "\n",
    "# Vérifier les classes détectées\n",
    "print(\"Classes détectées :\", dataset.classes)\n",
    "\n",
    "# Créer un DataLoader pour gérer le batching\n",
    "data_loader = DataLoader(dataset, batch_size=32, shuffle=True)\n",
    "\n",
    "# Calculer la moyenne et l'écart type du jeu de données\n",
    "mean = torch.zeros(3)\n",
    "std = torch.zeros(3)\n",
    "num_samples = 0\n",
    "\n",
    "for images, _ in data_loader:\n",
    "    batch_samples = images.size(0)  # Nombre d'images dans le batch\n",
    "    images = images.view(batch_samples, 3, -1)  # Réorganiser pour chaque canal\n",
    "    mean += images.mean(2).sum(0)\n",
    "    std += images.std(2).sum(0)\n",
    "    num_samples += batch_samples\n",
    "\n",
    "mean /= num_samples\n",
    "std /= num_samples\n",
    "\n",
    "print(\"Mean:\", mean)\n",
    "print(\"Std:\", std)"
   ]
  },
  {
   "cell_type": "code",
   "execution_count": 17,
   "id": "involved-harmony",
   "metadata": {},
   "outputs": [],
   "source": [
    "## Classes :\n",
    "\n",
    "# 0 = 'ENTER'\n",
    "# 1 = 'FIRE'\n",
    "# 2 = 'LEFT'\n",
    "# 3 = 'RIGHT'"
   ]
  },
  {
   "cell_type": "code",
   "execution_count": 5,
   "id": "heated-particular",
   "metadata": {},
   "outputs": [
    {
     "data": {
      "text/plain": [
       "5631"
      ]
     },
     "execution_count": 5,
     "metadata": {},
     "output_type": "execute_result"
    }
   ],
   "source": [
    "len(dataset)"
   ]
  },
  {
   "cell_type": "code",
   "execution_count": 5,
   "id": "running-boundary",
   "metadata": {},
   "outputs": [
    {
     "name": "stdout",
     "output_type": "stream",
     "text": [
      "Dataloader mis à jour avec normalisation personnalisée !\n"
     ]
    }
   ],
   "source": [
    "# Recharger les données avec cette fois une normalisation en plus :\n",
    "\n",
    "# Nouvelle transformation avec normalisation personnalisée\n",
    "transform = transforms.Compose([\n",
    "    transforms.Resize((128, 128)),\n",
    "    transforms.ToTensor(),\n",
    "    transforms.Normalize(mean=mean, std=std)\n",
    "])\n",
    "\n",
    "# Recharger le dataset avec la nouvelle transformation\n",
    "dataset = datasets.ImageFolder(root=\"Echantillons\", transform=transform)\n",
    "\n",
    "# Séparer en train et test\n",
    "train_size = int(0.8 * len(dataset))\n",
    "test_size = len(dataset) - train_size\n",
    "train_dataset, test_dataset = random_split(dataset, [train_size, test_size])\n",
    "\n",
    "# Création des DataLoaders\n",
    "trainloader = DataLoader(train_dataset, batch_size=32, shuffle=True)\n",
    "testloader = DataLoader(test_dataset, batch_size=32, shuffle=False)\n",
    "\n",
    "print(\"Dataloader mis à jour avec normalisation personnalisée !\")"
   ]
  },
  {
   "cell_type": "code",
   "execution_count": 7,
   "id": "ff4bd758-7504-4abd-9ba5-95ddfac3e305",
   "metadata": {},
   "outputs": [
    {
     "ename": "TypeError",
     "evalue": "unsupported operand type(s) for *: 'numpy.ndarray' and 'Tensor'",
     "output_type": "error",
     "traceback": [
      "\u001b[1;31m---------------------------------------------------------------------------\u001b[0m",
      "\u001b[1;31mTypeError\u001b[0m                                 Traceback (most recent call last)",
      "Cell \u001b[1;32mIn[7], line 20\u001b[0m\n\u001b[0;32m     17\u001b[0m images, labels \u001b[38;5;241m=\u001b[39m \u001b[38;5;28mnext\u001b[39m(dataiter)\n\u001b[0;32m     19\u001b[0m \u001b[38;5;66;03m# Afficher une seule image du batch\u001b[39;00m\n\u001b[1;32m---> 20\u001b[0m imshow(images[\u001b[38;5;241m0\u001b[39m])\n\u001b[0;32m     22\u001b[0m \u001b[38;5;66;03m# Afficher son label\u001b[39;00m\n\u001b[0;32m     23\u001b[0m \u001b[38;5;28mprint\u001b[39m(\u001b[38;5;124m'\u001b[39m\u001b[38;5;124mLabel:\u001b[39m\u001b[38;5;124m'\u001b[39m, dataset\u001b[38;5;241m.\u001b[39mclasses[labels[\u001b[38;5;241m0\u001b[39m]])\n",
      "Cell \u001b[1;32mIn[7], line 7\u001b[0m, in \u001b[0;36mimshow\u001b[1;34m(img)\u001b[0m\n\u001b[0;32m      4\u001b[0m img \u001b[38;5;241m=\u001b[39m img\u001b[38;5;241m.\u001b[39mclone()\u001b[38;5;241m.\u001b[39mdetach()  \n\u001b[0;32m      5\u001b[0m img \u001b[38;5;241m=\u001b[39m img\u001b[38;5;241m.\u001b[39mnumpy()\u001b[38;5;241m.\u001b[39mtranspose((\u001b[38;5;241m1\u001b[39m, \u001b[38;5;241m2\u001b[39m, \u001b[38;5;241m0\u001b[39m))  \n\u001b[1;32m----> 7\u001b[0m img \u001b[38;5;241m=\u001b[39m img \u001b[38;5;241m*\u001b[39m std \u001b[38;5;241m+\u001b[39m mean  \u001b[38;5;66;03m# Appliquer la dé-normalisation\u001b[39;00m\n\u001b[0;32m      8\u001b[0m img \u001b[38;5;241m=\u001b[39m np\u001b[38;5;241m.\u001b[39mclip(img, \u001b[38;5;241m0\u001b[39m, \u001b[38;5;241m1\u001b[39m)  \n\u001b[0;32m     10\u001b[0m plt\u001b[38;5;241m.\u001b[39mfigure(figsize\u001b[38;5;241m=\u001b[39m(\u001b[38;5;241m5\u001b[39m, \u001b[38;5;241m5\u001b[39m))\n",
      "\u001b[1;31mTypeError\u001b[0m: unsupported operand type(s) for *: 'numpy.ndarray' and 'Tensor'"
     ]
    }
   ],
   "source": [
    "# Fonction pour afficher une image\n",
    "def imshow(img):\n",
    "    # Dé-normalisation\n",
    "    img = img.clone().detach()  \n",
    "    img = img.numpy().transpose((1, 2, 0))  \n",
    "\n",
    "    img = img * std + mean  # Appliquer la dé-normalisation\n",
    "    img = np.clip(img, 0, 1)  \n",
    "\n",
    "    plt.figure(figsize=(5, 5))\n",
    "    plt.imshow(img)\n",
    "    plt.axis('off')\n",
    "    plt.show()\n",
    "\n",
    "# Récupérer un batch d'images\n",
    "dataiter = iter(trainloader)\n",
    "images, labels = next(dataiter)\n",
    "\n",
    "# Afficher une seule image du batch\n",
    "imshow(images[0])\n",
    "\n",
    "# Afficher son label\n",
    "print('Label:', dataset.classes[labels[0]])"
   ]
  },
  {
   "cell_type": "code",
   "execution_count": null,
   "id": "5eefbe5a-0e96-4bf9-9cfe-4a59752b5040",
   "metadata": {},
   "outputs": [],
   "source": []
  }
 ],
 "metadata": {
  "kernelspec": {
   "display_name": "Python [conda env:base] *",
   "language": "python",
   "name": "conda-base-py"
  },
  "language_info": {
   "codemirror_mode": {
    "name": "ipython",
    "version": 3
   },
   "file_extension": ".py",
   "mimetype": "text/x-python",
   "name": "python",
   "nbconvert_exporter": "python",
   "pygments_lexer": "ipython3",
   "version": "3.11.7"
  }
 },
 "nbformat": 4,
 "nbformat_minor": 5
}
