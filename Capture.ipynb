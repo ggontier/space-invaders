{
  "cells": [
    {
      "cell_type": "code",
      "execution_count": null,
      "id": "constant-management",
      "metadata": {
        "id": "constant-management",
        "outputId": "2bee18c7-ea5e-48e3-ec79-f5b00bc31a46"
      },
      "outputs": [
        {
          "name": "stdout",
          "output_type": "stream",
          "text": [
            "Appuyez sur 'q' pour arrêter l'enregistrement.\n"
          ]
        }
      ],
      "source": [
        "import cv2\n",
        "\n",
        "# Ouvrir la webcam (0 = webcam par défaut)\n",
        "cap = cv2.VideoCapture(0)\n",
        "\n",
        "# Définir les paramètres de la vidéo\n",
        "width = int(cap.get(cv2.CAP_PROP_FRAME_WIDTH))\n",
        "height = int(cap.get(cv2.CAP_PROP_FRAME_HEIGHT))\n",
        "fps = 20  # Images par seconde\n",
        "fourcc = cv2.VideoWriter_fourcc(*'XVID')  # Format vidéo\n",
        "out = cv2.VideoWriter('mouvement.avi', fourcc, fps, (width, height))\n",
        "\n",
        "print(\"Appuyez sur 'q' pour arrêter l'enregistrement.\")\n",
        "\n",
        "while cap.isOpened():\n",
        "    ret, frame = cap.read()\n",
        "    if not ret:\n",
        "        break\n",
        "\n",
        "    # Afficher le flux vidéo\n",
        "    cv2.imshow('Capture Video', frame)\n",
        "\n",
        "    # Écrire l'image dans le fichier vidéo\n",
        "    out.write(frame)\n",
        "\n",
        "    # Arrêter l'enregistrement en appuyant sur 'q'\n",
        "    if cv2.waitKey(1) & 0xFF == ord('q'):\n",
        "        break\n",
        "\n",
        "# Libérer les ressources\n",
        "cap.release()\n",
        "out.release()\n",
        "cv2.destroyAllWindows()"
      ]
    },
    {
      "cell_type": "code",
      "execution_count": null,
      "id": "civilian-scratch",
      "metadata": {
        "id": "civilian-scratch",
        "outputId": "20412b75-67ef-4668-e2c9-6bda99c99f32"
      },
      "outputs": [
        {
          "name": "stdout",
          "output_type": "stream",
          "text": [
            "274 images extraites.\n"
          ]
        }
      ],
      "source": [
        "cap = cv2.VideoCapture('mouvement.avi')\n",
        "\n",
        "frame_count = 0\n",
        "while cap.isOpened():\n",
        "    ret, frame = cap.read()\n",
        "    if not ret:\n",
        "        break\n",
        "\n",
        "    cv2.imwrite(f'frame_{frame_count}_enter_col_test.jpg', frame)\n",
        "    frame_count += 1\n",
        "\n",
        "cap.release()\n",
        "print(f\"{frame_count} images extraites.\")"
      ]
    },
    {
      "cell_type": "code",
      "execution_count": null,
      "id": "iLLk7fD9-6A2",
      "metadata": {
        "id": "iLLk7fD9-6A2"
      },
      "outputs": [],
      "source": [
        "# Liens vers les bases de données ainsi obtenues :\n",
        "# Train : https://drive.google.com/drive/folders/1S5nBNDMvk647DkojJQlNKy6zgln6Pe0u?usp=sharing\n",
        "# Test : https://drive.google.com/drive/folders/1DuO82yhIdM51kMhKFZFUmBgFS_vFzXIX?usp=drive_link"
      ]
    }
  ],
  "metadata": {
    "colab": {
      "provenance": []
    },
    "kernelspec": {
      "display_name": "Python [conda env:base] *",
      "language": "python",
      "name": "conda-base-py"
    },
    "language_info": {
      "codemirror_mode": {
        "name": "ipython",
        "version": 3
      },
      "file_extension": ".py",
      "mimetype": "text/x-python",
      "name": "python",
      "nbconvert_exporter": "python",
      "pygments_lexer": "ipython3",
      "version": "3.11.7"
    }
  },
  "nbformat": 4,
  "nbformat_minor": 5
}