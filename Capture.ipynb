{
 "cells": [
  {
   "cell_type": "code",
   "execution_count": 7,
   "id": "constant-management",
   "metadata": {},
   "outputs": [
    {
     "name": "stdout",
     "output_type": "stream",
     "text": [
      "Appuyez sur 'q' pour arrêter l'enregistrement.\n"
     ]
    }
   ],
   "source": [
    "import cv2\n",
    "\n",
    "# Ouvrir la webcam (0 = webcam par défaut)\n",
    "cap = cv2.VideoCapture(0)\n",
    "\n",
    "# Définir les paramètres de la vidéo\n",
    "width = int(cap.get(cv2.CAP_PROP_FRAME_WIDTH))\n",
    "height = int(cap.get(cv2.CAP_PROP_FRAME_HEIGHT))\n",
    "fps = 20  # Images par seconde\n",
    "fourcc = cv2.VideoWriter_fourcc(*'XVID')  # Format vidéo\n",
    "out = cv2.VideoWriter('mouvement.avi', fourcc, fps, (width, height))\n",
    "\n",
    "print(\"Appuyez sur 'q' pour arrêter l'enregistrement.\")\n",
    "\n",
    "while cap.isOpened():\n",
    "    ret, frame = cap.read()\n",
    "    if not ret:\n",
    "        break\n",
    "    \n",
    "    # Afficher le flux vidéo\n",
    "    cv2.imshow('Capture Video', frame)\n",
    "\n",
    "    # Écrire l'image dans le fichier vidéo\n",
    "    out.write(frame)\n",
    "\n",
    "    # Arrêter l'enregistrement en appuyant sur 'q'\n",
    "    if cv2.waitKey(1) & 0xFF == ord('q'):\n",
    "        break\n",
    "\n",
    "# Libérer les ressources\n",
    "cap.release()\n",
    "out.release()\n",
    "cv2.destroyAllWindows()\n"
   ]
  },
  {
   "cell_type": "code",
   "execution_count": 8,
   "id": "civilian-scratch",
   "metadata": {},
   "outputs": [
    {
     "name": "stdout",
     "output_type": "stream",
     "text": [
      "345 images extraites.\n"
     ]
    }
   ],
   "source": [
    "cap = cv2.VideoCapture('mouvement.avi')\n",
    "\n",
    "frame_count = 0\n",
    "while cap.isOpened():\n",
    "    ret, frame = cap.read()\n",
    "    if not ret:\n",
    "        break\n",
    "    \n",
    "    cv2.imwrite(f'frame_{frame_count}_col_g.jpg', frame)\n",
    "    frame_count += 1\n",
    "\n",
    "cap.release()\n",
    "print(f\"{frame_count} images extraites.\")\n"
   ]
  },
  {
   "cell_type": "code",
   "execution_count": null,
   "id": "first-recovery",
   "metadata": {},
   "outputs": [],
   "source": [
    "q"
   ]
  }
 ],
 "metadata": {
  "kernelspec": {
   "display_name": "Python 3",
   "language": "python",
   "name": "python3"
  },
  "language_info": {
   "codemirror_mode": {
    "name": "ipython",
    "version": 3
   },
   "file_extension": ".py",
   "mimetype": "text/x-python",
   "name": "python",
   "nbconvert_exporter": "python",
   "pygments_lexer": "ipython3",
   "version": "3.9.2"
  }
 },
 "nbformat": 4,
 "nbformat_minor": 5
}
