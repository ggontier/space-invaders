{
 "cells": [
  {
   "cell_type": "markdown",
   "id": "a84bb5f0-1166-497c-9a6d-132bc8f3182a",
   "metadata": {},
   "source": [
    "# **1. Mise en place**"
   ]
  },
  {
   "cell_type": "code",
   "execution_count": 700,
   "id": "8e4dfbbf-f925-45db-aa0c-0abddedc3c6d",
   "metadata": {},
   "outputs": [],
   "source": [
    "import numpy.random\n",
    "\n",
    "import cv2\n",
    "import mediapipe as mp\n",
    "import os\n",
    "import csv\n",
    "\n",
    "import pandas as pd\n",
    "\n",
    "from sklearn.preprocessing import MinMaxScaler\n",
    "\n",
    "import matplotlib.pyplot as plt\n",
    "\n",
    "import numpy as np\n",
    "\n",
    "import torch\n",
    "import torch.nn as nn\n",
    "import torch.optim as optim\n",
    "from torch.utils.data import DataLoader, TensorDataset\n",
    "\n",
    "from sklearn.preprocessing import LabelEncoder\n",
    "\n",
    "from tqdm import tqdm\n",
    "\n",
    "from matplotlib.ticker import MultipleLocator"
   ]
  },
  {
   "cell_type": "code",
   "execution_count": 702,
   "id": "3ed6b859-ec81-4422-bcfd-efe7775e2521",
   "metadata": {},
   "outputs": [],
   "source": [
    "# Fixer des seeds aléatoires pour la reproductibilité\n",
    "torch.manual_seed(42)\n",
    "np.random.seed(42)\n",
    "random.seed(42)"
   ]
  },
  {
   "cell_type": "code",
   "execution_count": 704,
   "id": "cfb418f2-6f47-4f18-9b56-fda692500c06",
   "metadata": {},
   "outputs": [
    {
     "name": "stdout",
     "output_type": "stream",
     "text": [
      "Using device: cpu\n"
     ]
    }
   ],
   "source": [
    "# Vérifier si un GPU est disponbible\n",
    "\n",
    "# Vérifier si CUDA (GPU NVIDIA) ou MPS (Apple Silicon) est disponbible\n",
    "if torch.cuda.is_available():\n",
    "    device = torch.device(\"cuda:0\")\n",
    "elif hasattr(torch.backends, 'mps') and torch.backends.mps.is_available():\n",
    "    device = torch.device(\"mps\")\n",
    "else:\n",
    "    device = torch.device(\"cpu\")\n",
    "print(f\"Using device: {device}\") # Affichage du device utilisé (GPU ou CPU)"
   ]
  },
  {
   "cell_type": "markdown",
   "id": "a7d1db45-a4ac-4fdb-a100-32a1679eed42",
   "metadata": {},
   "source": [
    "# **2. Chargement des données**"
   ]
  },
  {
   "cell_type": "code",
   "execution_count": 707,
   "id": "3717592f-d6a5-4f63-aba0-59e6aed91ee2",
   "metadata": {},
   "outputs": [],
   "source": [
    "# Initialiser MediaPipe Hands\n",
    "mp_hands = mp.solutions.hands\n",
    "hands = mp_hands.Hands(static_image_mode = True, max_num_hands = 2, min_detection_confidence = 0.5)\n",
    "mp_drawing = mp.solutions.drawing_utils"
   ]
  },
  {
   "cell_type": "code",
   "execution_count": 709,
   "id": "49be45d6-d3e7-4ae3-917b-bd1bc9c6fc27",
   "metadata": {},
   "outputs": [],
   "source": [
    "# Fonction pour extraire les landmarks d'une image\n",
    "def extract_landmarks(image_path):\n",
    "    image = cv2.imread(image_path)\n",
    "    image_rgb = cv2.cvtColor(image, cv2.COLOR_BGR2RGB)\n",
    "    results = hands.process(image_rgb)\n",
    "\n",
    "    if results.multi_hand_landmarks:\n",
    "        # Récupérer les landmarks pour chaque main détectée\n",
    "        for hand_landmarks in results.multi_hand_landmarks:\n",
    "            landmarks = []\n",
    "            for lm in hand_landmarks.landmark:\n",
    "                landmarks.extend([lm.x, lm.y, lm.z])  # Coordonnées X, Y, Z\n",
    "            return landmarks\n",
    "    print(f\"Aucune main détectée pour {image_path}\")\n",
    "    return None\n",
    "\n",
    "# Parcourir les dossiers et extraire les données\n",
    "def process_dataset(dataset_path, output_csv):\n",
    "    with open(output_csv, mode='w', newline='') as file:\n",
    "        writer = csv.writer(file)\n",
    "        # En-tête du fichier CSV\n",
    "        header = ['label'] + [f'{coord}_{i}' for i in range(21) for coord in ['x', 'y', 'z']]\n",
    "        writer.writerow(header)\n",
    "\n",
    "        # Parcourir les dossiers\n",
    "        for label in os.listdir(dataset_path):\n",
    "            label_path = os.path.join(dataset_path, label)\n",
    "            if os.path.isdir(label_path):\n",
    "                for image_name in os.listdir(label_path):\n",
    "                    image_path = os.path.join(label_path, image_name)\n",
    "                    landmarks = extract_landmarks(image_path)\n",
    "                    if landmarks:\n",
    "                        writer.writerow([label] + landmarks)"
   ]
  },
  {
   "cell_type": "code",
   "execution_count": 711,
   "id": "4841f550-c63d-4d13-8ee2-84d1f5063ae4",
   "metadata": {},
   "outputs": [
    {
     "name": "stdout",
     "output_type": "stream",
     "text": [
      "Aucune main détectée pour Train\\FIRE\\FIRE_1002.jpg\n",
      "Aucune main détectée pour Train\\FIRE\\FIRE_1156.jpg\n",
      "Aucune main détectée pour Train\\FIRE\\FIRE_135.jpg\n",
      "Aucune main détectée pour Train\\FIRE\\FIRE_1357.jpg\n",
      "Aucune main détectée pour Train\\FIRE\\FIRE_1419.jpg\n",
      "Aucune main détectée pour Train\\FIRE\\FIRE_1433.jpg\n",
      "Aucune main détectée pour Train\\FIRE\\FIRE_1438.jpg\n",
      "Aucune main détectée pour Train\\FIRE\\FIRE_1605.jpg\n",
      "Aucune main détectée pour Train\\FIRE\\FIRE_1655.jpg\n",
      "Aucune main détectée pour Train\\FIRE\\FIRE_1747.jpg\n",
      "Aucune main détectée pour Train\\FIRE\\FIRE_1753.jpg\n",
      "Aucune main détectée pour Train\\FIRE\\FIRE_1775.jpg\n",
      "Aucune main détectée pour Train\\FIRE\\FIRE_1790.jpg\n",
      "Aucune main détectée pour Train\\FIRE\\FIRE_1803.jpg\n",
      "Aucune main détectée pour Train\\FIRE\\FIRE_1820.jpg\n",
      "Aucune main détectée pour Train\\FIRE\\FIRE_1830.jpg\n",
      "Aucune main détectée pour Train\\FIRE\\FIRE_1831.jpg\n",
      "Aucune main détectée pour Train\\FIRE\\FIRE_1859.jpg\n",
      "Aucune main détectée pour Train\\FIRE\\FIRE_1885.jpg\n",
      "Aucune main détectée pour Train\\FIRE\\FIRE_1929.jpg\n",
      "Aucune main détectée pour Train\\FIRE\\FIRE_1934.jpg\n",
      "Aucune main détectée pour Train\\FIRE\\FIRE_309.jpg\n",
      "Aucune main détectée pour Train\\FIRE\\FIRE_566.jpg\n",
      "Aucune main détectée pour Train\\FIRE\\FIRE_580.jpg\n",
      "Aucune main détectée pour Train\\FIRE\\FIRE_60.jpg\n",
      "Aucune main détectée pour Train\\FIRE\\FIRE_910.jpg\n",
      "Aucune main détectée pour Train\\LEFT\\LEFT_0.jpg\n",
      "Aucune main détectée pour Train\\LEFT\\LEFT_118.jpg\n",
      "Aucune main détectée pour Train\\LEFT\\LEFT_126.jpg\n",
      "Aucune main détectée pour Train\\LEFT\\LEFT_191.jpg\n",
      "Aucune main détectée pour Train\\LEFT\\LEFT_254.jpg\n",
      "Aucune main détectée pour Train\\LEFT\\LEFT_255.jpg\n",
      "Aucune main détectée pour Train\\LEFT\\LEFT_261.jpg\n",
      "Aucune main détectée pour Train\\LEFT\\LEFT_322.jpg\n",
      "Aucune main détectée pour Train\\LEFT\\LEFT_351.jpg\n",
      "Aucune main détectée pour Train\\LEFT\\LEFT_397.jpg\n",
      "Aucune main détectée pour Train\\LEFT\\LEFT_414.jpg\n",
      "Aucune main détectée pour Train\\LEFT\\LEFT_424.jpg\n",
      "Aucune main détectée pour Train\\LEFT\\LEFT_474.jpg\n",
      "Aucune main détectée pour Train\\LEFT\\LEFT_483.jpg\n",
      "Aucune main détectée pour Train\\LEFT\\LEFT_501.jpg\n",
      "Aucune main détectée pour Train\\LEFT\\LEFT_526.jpg\n",
      "Aucune main détectée pour Train\\LEFT\\LEFT_646.jpg\n",
      "Aucune main détectée pour Train\\LEFT\\LEFT_676.jpg\n",
      "Aucune main détectée pour Train\\LEFT\\LEFT_686.jpg\n",
      "Aucune main détectée pour Train\\RIGHT\\RIGHT_1036.jpg\n",
      "Aucune main détectée pour Train\\RIGHT\\RIGHT_1239.jpg\n",
      "Aucune main détectée pour Train\\RIGHT\\RIGHT_1317.jpg\n",
      "Aucune main détectée pour Train\\RIGHT\\RIGHT_138.jpg\n",
      "Aucune main détectée pour Train\\RIGHT\\RIGHT_1391.jpg\n",
      "Aucune main détectée pour Train\\RIGHT\\RIGHT_187.jpg\n",
      "Aucune main détectée pour Train\\RIGHT\\RIGHT_344.jpg\n",
      "Aucune main détectée pour Train\\RIGHT\\RIGHT_351.jpg\n",
      "Aucune main détectée pour Train\\RIGHT\\RIGHT_355.jpg\n",
      "Aucune main détectée pour Train\\RIGHT\\RIGHT_446.jpg\n",
      "Aucune main détectée pour Train\\RIGHT\\RIGHT_448.jpg\n",
      "Aucune main détectée pour Train\\RIGHT\\RIGHT_450.jpg\n",
      "Aucune main détectée pour Train\\RIGHT\\RIGHT_479.jpg\n",
      "Aucune main détectée pour Train\\RIGHT\\RIGHT_499.jpg\n",
      "Aucune main détectée pour Train\\RIGHT\\RIGHT_531.jpg\n",
      "Aucune main détectée pour Train\\RIGHT\\RIGHT_633.jpg\n",
      "Aucune main détectée pour Train\\RIGHT\\RIGHT_646.jpg\n",
      "Aucune main détectée pour Train\\RIGHT\\RIGHT_651.jpg\n",
      "Aucune main détectée pour Train\\RIGHT\\RIGHT_717.jpg\n",
      "Aucune main détectée pour Train\\RIGHT\\RIGHT_729.jpg\n",
      "Aucune main détectée pour Train\\RIGHT\\RIGHT_756.jpg\n",
      "Aucune main détectée pour Train\\RIGHT\\RIGHT_811.jpg\n",
      "Aucune main détectée pour Train\\RIGHT\\RIGHT_86.jpg\n",
      "Aucune main détectée pour Train\\RIGHT\\RIGHT_87.jpg\n",
      "Aucune main détectée pour Train\\RIGHT\\RIGHT_894.jpg\n",
      "Aucune main détectée pour Train\\RIGHT\\RIGHT_92.jpg\n",
      "Aucune main détectée pour Train\\RIGHT\\RIGHT_954.jpg\n",
      "Aucune main détectée pour Train\\RIGHT\\RIGHT_991.jpg\n",
      "Données enregistrées dans train_landmarks.csv\n"
     ]
    }
   ],
   "source": [
    "## Chemins de l'échantillon d'entraînement\n",
    "# train_dataset_path = \"Train\"\n",
    "# train_output_csv = \"train_landmarks.csv\"\n",
    "\n",
    "## Exécution pour l'échantillon d'entraînement (déjà faite)\n",
    "# process_dataset(train_dataset_path, train_output_csv)\n",
    "# print(f\"Données enregistrées dans {train_output_csv}\")"
   ]
  },
  {
   "cell_type": "code",
   "execution_count": 713,
   "id": "f6b816de-bdbe-44b0-bc66-0b47ae81e1ea",
   "metadata": {},
   "outputs": [
    {
     "name": "stdout",
     "output_type": "stream",
     "text": [
      "Aucune main détectée pour Test\\ENTER\\ENTER_345.jpg\n",
      "Aucune main détectée pour Test\\FIRE\\FIRE_111.jpg\n",
      "Aucune main détectée pour Test\\FIRE\\FIRE_113.jpg\n",
      "Aucune main détectée pour Test\\FIRE\\FIRE_128.jpg\n",
      "Aucune main détectée pour Test\\FIRE\\FIRE_130.jpg\n",
      "Aucune main détectée pour Test\\FIRE\\FIRE_132.jpg\n",
      "Aucune main détectée pour Test\\FIRE\\FIRE_134.jpg\n",
      "Aucune main détectée pour Test\\FIRE\\FIRE_136.jpg\n",
      "Aucune main détectée pour Test\\FIRE\\FIRE_166.jpg\n",
      "Aucune main détectée pour Test\\FIRE\\FIRE_173.jpg\n",
      "Aucune main détectée pour Test\\FIRE\\FIRE_175.jpg\n",
      "Aucune main détectée pour Test\\FIRE\\FIRE_177.jpg\n",
      "Aucune main détectée pour Test\\FIRE\\FIRE_179.jpg\n",
      "Aucune main détectée pour Test\\FIRE\\FIRE_181.jpg\n",
      "Aucune main détectée pour Test\\FIRE\\FIRE_183.jpg\n",
      "Aucune main détectée pour Test\\FIRE\\FIRE_185.jpg\n",
      "Aucune main détectée pour Test\\FIRE\\FIRE_187.jpg\n",
      "Aucune main détectée pour Test\\FIRE\\FIRE_190.jpg\n",
      "Aucune main détectée pour Test\\FIRE\\FIRE_192.jpg\n",
      "Aucune main détectée pour Test\\FIRE\\FIRE_261.jpg\n",
      "Aucune main détectée pour Test\\FIRE\\FIRE_263.jpg\n",
      "Aucune main détectée pour Test\\FIRE\\FIRE_265.jpg\n",
      "Aucune main détectée pour Test\\FIRE\\FIRE_267.jpg\n",
      "Aucune main détectée pour Test\\FIRE\\FIRE_269.jpg\n",
      "Aucune main détectée pour Test\\FIRE\\FIRE_282.jpg\n",
      "Aucune main détectée pour Test\\FIRE\\FIRE_284.jpg\n",
      "Aucune main détectée pour Test\\FIRE\\FIRE_286.jpg\n",
      "Aucune main détectée pour Test\\FIRE\\FIRE_288.jpg\n",
      "Aucune main détectée pour Test\\FIRE\\FIRE_290.jpg\n",
      "Aucune main détectée pour Test\\FIRE\\FIRE_301.jpg\n",
      "Aucune main détectée pour Test\\FIRE\\FIRE_302.jpg\n",
      "Aucune main détectée pour Test\\FIRE\\FIRE_315.jpg\n",
      "Aucune main détectée pour Test\\FIRE\\FIRE_316.jpg\n",
      "Aucune main détectée pour Test\\FIRE\\FIRE_345.jpg\n",
      "Aucune main détectée pour Test\\FIRE\\FIRE_434.jpg\n",
      "Aucune main détectée pour Test\\FIRE\\FIRE_436.jpg\n",
      "Aucune main détectée pour Test\\FIRE\\FIRE_438.jpg\n",
      "Aucune main détectée pour Test\\FIRE\\FIRE_440.jpg\n",
      "Aucune main détectée pour Test\\FIRE\\FIRE_442.jpg\n",
      "Aucune main détectée pour Test\\FIRE\\FIRE_444.jpg\n",
      "Aucune main détectée pour Test\\FIRE\\FIRE_446.jpg\n",
      "Aucune main détectée pour Test\\FIRE\\FIRE_447.jpg\n",
      "Aucune main détectée pour Test\\FIRE\\FIRE_448.jpg\n",
      "Aucune main détectée pour Test\\FIRE\\FIRE_449.jpg\n",
      "Aucune main détectée pour Test\\FIRE\\FIRE_460.jpg\n",
      "Aucune main détectée pour Test\\FIRE\\FIRE_463.jpg\n",
      "Aucune main détectée pour Test\\FIRE\\FIRE_464.jpg\n",
      "Aucune main détectée pour Test\\FIRE\\FIRE_465.jpg\n",
      "Aucune main détectée pour Test\\FIRE\\FIRE_467.jpg\n",
      "Aucune main détectée pour Test\\FIRE\\FIRE_469.jpg\n",
      "Aucune main détectée pour Test\\FIRE\\FIRE_67.jpg\n",
      "Aucune main détectée pour Test\\FIRE\\FIRE_69.jpg\n",
      "Aucune main détectée pour Test\\FIRE\\FIRE_71.jpg\n",
      "Aucune main détectée pour Test\\FIRE\\FIRE_73.jpg\n",
      "Aucune main détectée pour Test\\FIRE\\FIRE_75.jpg\n",
      "Aucune main détectée pour Test\\FIRE\\FIRE_77.jpg\n",
      "Aucune main détectée pour Test\\FIRE\\FIRE_79.jpg\n",
      "Aucune main détectée pour Test\\LEFT\\LEFT_10.jpg\n",
      "Aucune main détectée pour Test\\LEFT\\LEFT_12.jpg\n",
      "Aucune main détectée pour Test\\LEFT\\LEFT_294.jpg\n",
      "Aucune main détectée pour Test\\LEFT\\LEFT_407.jpg\n",
      "Aucune main détectée pour Test\\LEFT\\LEFT_409.jpg\n",
      "Aucune main détectée pour Test\\LEFT\\LEFT_411.jpg\n",
      "Aucune main détectée pour Test\\LEFT\\LEFT_413.jpg\n",
      "Aucune main détectée pour Test\\LEFT\\LEFT_416.jpg\n",
      "Aucune main détectée pour Test\\LEFT\\LEFT_418.jpg\n",
      "Aucune main détectée pour Test\\LEFT\\LEFT_8.jpg\n",
      "Aucune main détectée pour Test\\RIGHT\\RIGHT_190.jpg\n",
      "Aucune main détectée pour Test\\RIGHT\\RIGHT_2.jpg\n",
      "Aucune main détectée pour Test\\RIGHT\\RIGHT_4.jpg\n",
      "Aucune main détectée pour Test\\RIGHT\\RIGHT_408.jpg\n",
      "Aucune main détectée pour Test\\RIGHT\\RIGHT_427.jpg\n",
      "Aucune main détectée pour Test\\RIGHT\\RIGHT_429.jpg\n",
      "Aucune main détectée pour Test\\RIGHT\\RIGHT_431.jpg\n",
      "Aucune main détectée pour Test\\RIGHT\\RIGHT_433.jpg\n",
      "Aucune main détectée pour Test\\RIGHT\\RIGHT_435.jpg\n",
      "Aucune main détectée pour Test\\RIGHT\\RIGHT_437.jpg\n",
      "Aucune main détectée pour Test\\RIGHT\\RIGHT_439.jpg\n",
      "Aucune main détectée pour Test\\RIGHT\\RIGHT_441.jpg\n",
      "Aucune main détectée pour Test\\RIGHT\\RIGHT_444.jpg\n",
      "Aucune main détectée pour Test\\RIGHT\\RIGHT_446.jpg\n",
      "Aucune main détectée pour Test\\RIGHT\\RIGHT_448.jpg\n",
      "Aucune main détectée pour Test\\RIGHT\\RIGHT_450.jpg\n",
      "Aucune main détectée pour Test\\RIGHT\\RIGHT_452.jpg\n",
      "Aucune main détectée pour Test\\RIGHT\\RIGHT_454.jpg\n",
      "Aucune main détectée pour Test\\RIGHT\\RIGHT_456.jpg\n",
      "Aucune main détectée pour Test\\RIGHT\\RIGHT_458.jpg\n",
      "Aucune main détectée pour Test\\RIGHT\\RIGHT_460.jpg\n",
      "Aucune main détectée pour Test\\RIGHT\\RIGHT_462.jpg\n",
      "Données enregistrées dans test_landmarks.csv\n"
     ]
    }
   ],
   "source": [
    "## Chemins pour l'échantillon de test\n",
    "# test_dataset_path = \"Test\"\n",
    "# test_output_csv = \"test_landmarks.csv\"\n",
    "\n",
    "## Exécution pour l'échantillon de test (déjà faite)\n",
    "# process_dataset(test_dataset_path, test_output_csv)\n",
    "# print(f\"Données enregistrées dans {test_output_csv}\")"
   ]
  },
  {
   "cell_type": "code",
   "execution_count": 715,
   "id": "0985753c-bdc8-4cd4-a24a-3b1e3aecc374",
   "metadata": {},
   "outputs": [
    {
     "name": "stdout",
     "output_type": "stream",
     "text": [
      "   label       x_0       y_0           z_0       x_1       y_1       z_1  \\\n",
      "0  ENTER  0.313832  0.764376  2.474214e-07  0.358308  0.734033 -0.026857   \n",
      "1  ENTER  0.650379  0.380406  2.110198e-07  0.603407  0.368063 -0.015487   \n",
      "2  ENTER  0.663164  0.614228  1.384285e-07  0.619237  0.591525 -0.012178   \n",
      "3  ENTER  0.338837  0.690563  3.175797e-07  0.293740  0.682436 -0.011694   \n",
      "4  ENTER  0.716060  0.874130  3.947711e-07  0.661055  0.861623 -0.025433   \n",
      "\n",
      "        x_2       y_2       z_2  ...      z_17      x_18      y_18      z_18  \\\n",
      "0  0.386194  0.675503 -0.038582  ... -0.034137  0.273438  0.577838 -0.052214   \n",
      "1  0.568174  0.318842 -0.020643  ... -0.019743  0.653054  0.199351 -0.029746   \n",
      "2  0.589870  0.539513 -0.016454  ... -0.018273  0.676231  0.433817 -0.025656   \n",
      "3  0.258236  0.642395 -0.017841  ... -0.030567  0.360939  0.508950 -0.041258   \n",
      "4  0.618185  0.820818 -0.042626  ... -0.042167  0.758279  0.681288 -0.056616   \n",
      "\n",
      "       x_19      y_19      z_19      x_20      y_20      z_20  \n",
      "0  0.276770  0.542703 -0.060548  0.280732  0.509659 -0.065162  \n",
      "1  0.645040  0.168978 -0.034041  0.636968  0.142315 -0.036402  \n",
      "2  0.670259  0.404335 -0.027768  0.664124  0.379388 -0.028947  \n",
      "3  0.362803  0.474686 -0.044823  0.364105  0.443628 -0.046718  \n",
      "4  0.759192  0.642951 -0.062403  0.759486  0.607219 -0.065730  \n",
      "\n",
      "[5 rows x 64 columns]\n"
     ]
    }
   ],
   "source": [
    "# Charger les données d'entraînement obtenues\n",
    "data_train = pd.read_csv(\"train_landmarks.csv\")\n",
    "print(data_train.head())  # Afficher les premières lignes pour vérifier le chargement"
   ]
  },
  {
   "cell_type": "code",
   "execution_count": 717,
   "id": "25f21d88-c7e7-4834-a958-237aa88b04b4",
   "metadata": {},
   "outputs": [
    {
     "name": "stdout",
     "output_type": "stream",
     "text": [
      "   label       x_0       y_0           z_0       x_1       y_1       z_1  \\\n",
      "0  ENTER  0.372713  0.992195  4.075158e-07  0.415978  0.971429 -0.018991   \n",
      "1  ENTER  0.218966  0.684899  2.662443e-07  0.267944  0.652957 -0.020444   \n",
      "2  ENTER  0.695835  0.743236  1.200198e-07  0.642324  0.708206 -0.010117   \n",
      "3  ENTER  0.672564  0.667273  1.896680e-07  0.611416  0.630776 -0.015410   \n",
      "4  ENTER  0.558197  0.951038  4.124097e-07  0.499413  0.938858 -0.023143   \n",
      "\n",
      "        x_2       y_2       z_2  ...      z_17      x_18      y_18      z_18  \\\n",
      "0  0.443110  0.917652 -0.027041  ... -0.031439  0.340451  0.803522 -0.047341   \n",
      "1  0.303630  0.585849 -0.023309  ... -0.006866  0.192741  0.467618 -0.015227   \n",
      "2  0.607806  0.640412 -0.013044  ... -0.017123  0.698781  0.503783 -0.022862   \n",
      "3  0.572631  0.555050 -0.021079  ... -0.020881  0.680259  0.403728 -0.028222   \n",
      "4  0.452896  0.888823 -0.036276  ... -0.035082  0.588044  0.699659 -0.046850   \n",
      "\n",
      "       x_19      y_19      z_19      x_20      y_20      z_20  \n",
      "0  0.347853  0.764705 -0.054859  0.354923  0.730493 -0.058574  \n",
      "1  0.200441  0.434989 -0.018998  0.208509  0.406563 -0.021629  \n",
      "2  0.689474  0.467991 -0.023101  0.680382  0.437788 -0.023323  \n",
      "3  0.670619  0.364022 -0.028713  0.660530  0.330148 -0.029113  \n",
      "4  0.586353  0.657341 -0.050868  0.582775  0.619509 -0.053072  \n",
      "\n",
      "[5 rows x 64 columns]\n"
     ]
    }
   ],
   "source": [
    "# Charger les données de test obtenues\n",
    "data_test = pd.read_csv(\"test_landmarks.csv\")\n",
    "print(data_test.head())  # Afficher les premières lignes pour vérifier le chargement"
   ]
  },
  {
   "cell_type": "markdown",
   "id": "6574f49f-af56-4c8f-9bd9-d8b77761a115",
   "metadata": {},
   "source": [
    "# **3. Traitement et analyse des données**"
   ]
  },
  {
   "cell_type": "code",
   "execution_count": 720,
   "id": "7b8f6cc6-297a-4c71-9e44-b81a6e7a92dd",
   "metadata": {},
   "outputs": [],
   "source": [
    "# Etape de normalisation\n",
    "scaler = MinMaxScaler()\n",
    "features_train = data_train.iloc[:, 1:]  # Exclure la colonne des labels\n",
    "features_test = data_test.iloc[:, 1:] # De même pour l'échantillon de test\n",
    "normalized_features_train = scaler.fit_transform(features_train)\n",
    "normalized_features_test = scaler.fit_transform(features_test)"
   ]
  },
  {
   "cell_type": "code",
   "execution_count": 722,
   "id": "201158c9-ca76-4f0f-aae6-cdff1e975c39",
   "metadata": {},
   "outputs": [
    {
     "name": "stdout",
     "output_type": "stream",
     "text": [
      "   label       x_0       y_0       z_0       x_1       y_1       z_1  \\\n",
      "0  ENTER  0.329598  0.679027  0.780843  0.373168  0.673895  0.312188   \n",
      "1  ENTER  0.662875  0.273039  0.747177  0.631281  0.284959  0.485181   \n",
      "2  ENTER  0.675536  0.520269  0.680040  0.647952  0.522444  0.535528   \n",
      "3  ENTER  0.354360  0.600981  0.845729  0.305172  0.619060  0.542895   \n",
      "4  ENTER  0.727917  0.795074  0.917120  0.691990  0.809492  0.333856   \n",
      "\n",
      "        x_2       y_2       z_2  ...      z_17      x_18      y_18      z_18  \\\n",
      "0  0.400932  0.646232  0.410156  ...  0.396241  0.287109  0.586272  0.419299   \n",
      "1  0.590779  0.273370  0.583845  ...  0.524845  0.638448  0.199098  0.583771   \n",
      "2  0.613413  0.504065  0.624400  ...  0.537979  0.659898  0.438945  0.613712   \n",
      "3  0.267443  0.611621  0.610969  ...  0.428137  0.368093  0.515803  0.499499   \n",
      "4  0.642952  0.798148  0.371002  ...  0.324492  0.735834  0.692096  0.387074   \n",
      "\n",
      "       x_19      y_19      z_19      x_20      y_20      z_20  \n",
      "0  0.293212  0.554767  0.417450  0.298603  0.536909  0.410010  \n",
      "1  0.629651  0.173215  0.595646  0.620202  0.166188  0.590835  \n",
      "2  0.652691  0.413501  0.637813  0.644717  0.405440  0.637704  \n",
      "3  0.371809  0.485326  0.523163  0.373870  0.470271  0.525970  \n",
      "4  0.733936  0.657115  0.404984  0.730807  0.635366  0.406437  \n",
      "\n",
      "[5 rows x 64 columns]\n"
     ]
    }
   ],
   "source": [
    "# Remplacer les anciennes données par les données normalisées dans l'échantillon d'entraînement\n",
    "data_train.iloc[:, 1:] = normalized_features_train\n",
    "print(data_train.head()) # Affichage des données d'entraînement normalisées"
   ]
  },
  {
   "cell_type": "code",
   "execution_count": 724,
   "id": "d4751f00-50b7-4201-bca6-05dbe471703c",
   "metadata": {},
   "outputs": [
    {
     "name": "stdout",
     "output_type": "stream",
     "text": [
      "   label       x_0       y_0       z_0       x_1       y_1       z_1  \\\n",
      "0  ENTER  0.376631  0.858356  0.671157  0.389537  0.882544  0.752748   \n",
      "1  ENTER  0.225509  0.526229  0.587608  0.226660  0.543601  0.739969   \n",
      "2  ENTER  0.694237  0.589281  0.501129  0.638577  0.602400  0.830767   \n",
      "3  ENTER  0.671363  0.507179  0.542320  0.604570  0.519993  0.784227   \n",
      "4  ENTER  0.558948  0.813873  0.674052  0.481337  0.847879  0.716240   \n",
      "\n",
      "        x_2       y_2       z_2  ...      z_17      x_18      y_18      z_18  \\\n",
      "0  0.393824  0.905300  0.768855  ...  0.493750  0.334718  0.838029  0.469998   \n",
      "1  0.224196  0.550665  0.790357  ...  0.676078  0.203950  0.470873  0.663827   \n",
      "2  0.594118  0.608982  0.849494  ...  0.599976  0.651949  0.510403  0.617749   \n",
      "3  0.551339  0.517746  0.803205  ...  0.572091  0.635552  0.401039  0.585394   \n",
      "4  0.405725  0.874487  0.715647  ...  0.466713  0.553913  0.724502  0.472964   \n",
      "\n",
      "       x_19      y_19      z_19      x_20      y_20      z_20  \n",
      "0  0.338549  0.768946  0.460210  0.340452  0.735084  0.452077  \n",
      "1  0.210063  0.424798  0.658190  0.214725  0.418304  0.642218  \n",
      "2  0.636309  0.459243  0.635543  0.619926  0.448840  0.633498  \n",
      "3  0.619874  0.350724  0.604560  0.602879  0.343576  0.603703  \n",
      "4  0.546428  0.656882  0.482245  0.536110  0.626550  0.480393  \n",
      "\n",
      "[5 rows x 64 columns]\n"
     ]
    }
   ],
   "source": [
    "# De même pour l'échantillon de test\n",
    "data_test.iloc[:, 1:] = normalized_features_test\n",
    "print(data_test.head())"
   ]
  },
  {
   "cell_type": "code",
   "execution_count": 726,
   "id": "e497ff32-e8ab-46d9-a421-14494850781e",
   "metadata": {},
   "outputs": [
    {
     "name": "stdout",
     "output_type": "stream",
     "text": [
      "Caractéristiques de l'échantillon d'entraînement (X_train) : (5158, 63), Labels (y_train) : (5158,)\n"
     ]
    }
   ],
   "source": [
    "# Séparation des features et des labels dans l'échantillon d'entraînement\n",
    "\n",
    "X_train = data_train.iloc[:, 1:]  # Toutes les colonnes sauf les labels\n",
    "y_train = data_train.iloc[:, 0]   # La colonne des labels\n",
    "print(f\"Caractéristiques de l'échantillon d'entraînement (X_train) : {X_train.shape}, Labels (y_train) : {y_train.shape}\")"
   ]
  },
  {
   "cell_type": "code",
   "execution_count": 728,
   "id": "27ff53ac-e363-4505-b78d-4d5567f7a11d",
   "metadata": {},
   "outputs": [
    {
     "name": "stdout",
     "output_type": "stream",
     "text": [
      "Caractéristiques de l'échantillon de test (X_test) : (1833, 63), Labels (y_test) : (1833,)\n"
     ]
    }
   ],
   "source": [
    "# De même pour l'échantillon de test\n",
    "\n",
    "X_test = data_test.iloc[:, 1:] \n",
    "y_test = data_test.iloc[:, 0]   \n",
    "print(f\"Caractéristiques de l'échantillon de test (X_test) : {X_test.shape}, Labels (y_test) : {y_test.shape}\")"
   ]
  },
  {
   "cell_type": "code",
   "execution_count": 730,
   "id": "c4e0300b-0d74-4584-8daf-0e6ac7099131",
   "metadata": {},
   "outputs": [
    {
     "name": "stdout",
     "output_type": "stream",
     "text": [
      "Nombre d'images dans l'échantillon d'entraînement: 5158\n",
      "Nombre d'images dans l'échantillon de test : 1833\n",
      "Nombre de landmarks par image : 63\n",
      "Classe 'ENTER': 983 images\n",
      "Classe 'FIRE': 2000 images\n",
      "Classe 'LEFT': 784 images\n",
      "Classe 'RIGHT': 1464 images\n",
      "Classe 'ENTER': 420 images\n",
      "Classe 'FIRE': 496 images\n",
      "Classe 'LEFT': 542 images\n",
      "Classe 'RIGHT': 464 images\n"
     ]
    },
    {
     "data": {
      "image/png": "[encoded data removed]",
      "text/plain": [
       "<Figure size 1000x500 with 1 Axes>"
      ]
     },
     "metadata": {},
     "output_type": "display_data"
    }
   ],
   "source": [
    "def analyze_dataset(trainset, testset): # Fonction pour l'analyse des données\n",
    "\n",
    "    # 1. Récupérer le total d'images dans chaque échantillon\n",
    "    print(f\"Nombre d'images dans l'échantillon d'entraînement: {len(trainset)}\")\n",
    "    print(f\"Nombre d'images dans l'échantillon de test : {len(testset)}\")\n",
    "\n",
    "    # 2. Rappeler le nombre de coordonnées (landmarks) par image\n",
    "    print(f\"Nombre de landmarks par image : {trainset.shape[1]}\")\n",
    "\n",
    "    # 3. Compter le nombre d'images par classe dans les jeux de données\n",
    "    # Dictionnaires pour stocker le nombre d'images par classe\n",
    "    train_class_counts = {}\n",
    "    test_class_counts = {}\n",
    "    # Parcourir chaque dossier (chaque classe) du jeu de données d'entraînement\n",
    "    for class_name in os.listdir(train_dataset_path):\n",
    "      class_path = os.path.join(train_dataset_path, class_name)\n",
    "      # Vérifier que c'est bien un dossier\n",
    "      if os.path.isdir(class_path):\n",
    "        num_images = len([f for f in os.listdir(class_path) if f.lower().endswith(('.jpg', '.jpeg', '.png'))])\n",
    "        train_class_counts[class_name] = num_images\n",
    "    # De même pour le jeu de données de test\n",
    "    for class_name in os.listdir(test_dataset_path):\n",
    "      class_path = os.path.join(test_dataset_path, class_name)\n",
    "      if os.path.isdir(class_path):\n",
    "        num_images = len([f for f in os.listdir(class_path) if f.lower().endswith(('.jpg', '.jpeg', '.png'))])\n",
    "        test_class_counts[class_name] = num_images\n",
    "    # Afficher le nombre d'images par classe dans l'échantillon d'entraînement\n",
    "    for class_name, count in train_class_counts.items():\n",
    "      print(f\"Classe '{class_name}': {count} images\")\n",
    "    # De même pour l'échantillon de test\n",
    "    for class_name, count in test_class_counts.items():\n",
    "      print(f\"Classe '{class_name}': {count} images\")\n",
    "\n",
    "    # 4. Visualiser la distribution des classes dans les deux jeux de données\n",
    "    plt.figure(figsize=(10, 5))\n",
    "    plt.title(\"Nombre d'images par classe dans les échantillons\")\n",
    "    plt.bar(train_class_counts.keys(), train_class_counts.values(), label = 'Train')\n",
    "    plt.bar(test_class_counts.keys(), test_class_counts.values(), label = 'Test')\n",
    "    plt.legend()\n",
    "\n",
    "# Appeler la fonction pour analyser le jeu de données\n",
    "analyze_dataset(X_train, X_test)"
   ]
  },
  {
   "cell_type": "markdown",
   "id": "23f51a8d-d021-415f-b38b-92862c0aaffd",
   "metadata": {},
   "source": [
    "# **4. Augmentation des données**"
   ]
  },
  {
   "cell_type": "code",
   "execution_count": 732,
   "id": "74721ba8-2f07-4f9e-b4cd-e870c76bf4de",
   "metadata": {},
   "outputs": [],
   "source": [
    "# Définition de fonctions pour augmenter les données\n",
    "\n",
    "def add_noise(landmarks, noise_level = 0.01): # Ajout de bruit aléatoire pour simuler différentes qualités d'images\n",
    "    noise = np.random.normal(0, noise_level, landmarks.shape)\n",
    "    return landmarks + noise\n",
    "\n",
    "def scale_landmarks(landmarks, scale_factor = 1.1): # Zooms aléatoires pour simuler des distances à la caméra variables\n",
    "    return landmarks * scale_factor"
   ]
  },
  {
   "cell_type": "code",
   "execution_count": 734,
   "id": "c4677f9f-7a67-4385-857f-01bb31f5fe6c",
   "metadata": {},
   "outputs": [
    {
     "name": "stdout",
     "output_type": "stream",
     "text": [
      "(10316, 63)\n"
     ]
    }
   ],
   "source": [
    "# Appliquer les différentes augmentations\n",
    "\n",
    "X_train_augmented = []\n",
    "\n",
    "# Parcourir les lignes du DataFrame d'entraînement\n",
    "for i in range(X_train.shape[0]):\n",
    "    original = X_train.iloc[i, :]\n",
    "    augmented = [\n",
    "        add_noise(original),\n",
    "        scale_landmarks(original)\n",
    "    ]\n",
    "    X_train_augmented.extend(augmented)\n",
    "\n",
    "X_train_augmented = np.array(X_train_augmented)  # Convertir les données augmentées en un tableau NumPy\n",
    "print(X_train_augmented.shape)  # Vérifier la forme finale des données augmentées"
   ]
  },
  {
   "cell_type": "code",
   "execution_count": 736,
   "id": "5be1a4b5-90f9-49a6-a0ea-3b93bf783e77",
   "metadata": {},
   "outputs": [],
   "source": [
    "X_train = X_train_augmented  # Remplacer les données d'entraînement originales par les données augmentées\n",
    "y_train = np.repeat(y_train, 2)  # Adapter les labels (chaque ligne originale a 2 augmentations)"
   ]
  },
  {
   "cell_type": "code",
   "execution_count": 738,
   "id": "8699c8d9-4f15-4d90-919a-b07139ae97ba",
   "metadata": {},
   "outputs": [
    {
     "name": "stdout",
     "output_type": "stream",
     "text": [
      "Forme de X_train après augmentation : (10316, 63)\n",
      "Forme de y_train après répétition des labels : (10316,)\n"
     ]
    }
   ],
   "source": [
    "# Vérification de la concordance des longueurs entre X_train augmenté et y_train\n",
    "\n",
    "print(f\"Forme de X_train après augmentation : {X_train.shape}\")\n",
    "print(f\"Forme de y_train après répétition des labels : {y_train.shape}\")"
   ]
  },
  {
   "cell_type": "markdown",
   "id": "38df9453-32e4-43ea-bbbe-15428e0f3be5",
   "metadata": {},
   "source": [
    "# **5. Construction du modèle**"
   ]
  },
  {
   "cell_type": "code",
   "execution_count": 740,
   "id": "6452d1a3-8a5c-4fcf-b3c8-512229fca68f",
   "metadata": {},
   "outputs": [
    {
     "name": "stdout",
     "output_type": "stream",
     "text": [
      "Labels encodés : [0 0 0 ... 3 3 3]\n",
      "ENTER -> 0\n",
      "FIRE -> 1\n",
      "LEFT -> 2\n",
      "RIGHT -> 3\n"
     ]
    }
   ],
   "source": [
    "# Encoder les labels en tant que nombres entiers\n",
    "\n",
    "label_encoder = LabelEncoder()\n",
    "y_train = label_encoder.fit_transform(y_train)  # Conversion des labels\n",
    "y_test = label_encoder.transform(y_test)  # Même transformation pour les données de test\n",
    "\n",
    "print(f\"Labels encodés : {y_train}\")  # Vérifier les labels transformés\n",
    "print(\"ENTER -> 0\\nFIRE -> 1\\nLEFT -> 2\\nRIGHT -> 3\")"
   ]
  },
  {
   "cell_type": "code",
   "execution_count": 742,
   "id": "4738e5ba-1e21-486d-819a-be1edfec14a9",
   "metadata": {},
   "outputs": [],
   "source": [
    "# Conversion des données en tenseurs PyTorch pour le modèle à venir\n",
    "X_train_tensor = torch.tensor(X_train, dtype=torch.float32)\n",
    "y_train_tensor = torch.tensor(y_train, dtype=torch.long)\n",
    "X_test_tensor = torch.tensor(X_test.values, dtype=torch.float32)\n",
    "y_test_tensor = torch.tensor(y_test, dtype=torch.long)\n",
    "\n",
    "# Créer des DataSets à partir des tenseurs\n",
    "train_dataset = TensorDataset(X_train_tensor, y_train_tensor)\n",
    "test_dataset = TensorDataset(X_test_tensor, y_test_tensor)\n",
    "\n",
    "# Créer des DataLoaders à partir des DataSets pour charger les données par lots de taille 32\n",
    "train_loader = DataLoader(train_dataset, batch_size = 32, shuffle = True) # Répartition aléatoire des images dans les batchs\n",
    "test_loader = DataLoader(test_dataset, batch_size = 32, shuffle = False) # Pas besoin de répartition aléatoire pour l'échantillon de test"
   ]
  },
  {
   "cell_type": "code",
   "execution_count": 765,
   "id": "d330bac3-c1ea-4fcb-8a1f-fc4570951d8b",
   "metadata": {},
   "outputs": [],
   "source": [
    "# Définition d'un MultiLayer Perceptron à entraîner sur notre jeu de données\n",
    "class MLP(nn.Module):\n",
    "    def __init__(self, input_size, num_classes):\n",
    "        super(MLP, self).__init__()\n",
    "        self.model = nn.Sequential(\n",
    "            nn.Linear(input_size, 256),\n",
    "            nn.ReLU(),\n",
    "            nn.Linear(256, 128),\n",
    "            nn.ReLU(),\n",
    "            nn.Linear(128, 64),\n",
    "            nn.ReLU(),\n",
    "            nn.Linear(64, 32),\n",
    "            nn.ReLU(),\n",
    "            nn.Linear(32, num_classes),\n",
    "            nn.Softmax(dim = 1)\n",
    "        )\n",
    "\n",
    "    def forward(self, x):\n",
    "        return self.model(x)"
   ]
  },
  {
   "cell_type": "code",
   "execution_count": 767,
   "id": "fa47d26e-75b3-4c84-8ac4-977cdca0ae81",
   "metadata": {},
   "outputs": [
    {
     "name": "stdout",
     "output_type": "stream",
     "text": [
      "MLP(\n",
      "  (model): Sequential(\n",
      "    (0): Linear(in_features=63, out_features=256, bias=True)\n",
      "    (1): ReLU()\n",
      "    (2): Linear(in_features=256, out_features=128, bias=True)\n",
      "    (3): ReLU()\n",
      "    (4): Linear(in_features=128, out_features=64, bias=True)\n",
      "    (5): ReLU()\n",
      "    (6): Linear(in_features=64, out_features=32, bias=True)\n",
      "    (7): ReLU()\n",
      "    (8): Linear(in_features=32, out_features=4, bias=True)\n",
      "    (9): Softmax(dim=1)\n",
      "  )\n",
      ")\n"
     ]
    }
   ],
   "source": [
    "# Initialiser le modèle\n",
    "\n",
    "input_size = X_train.shape[1]  # Nombre de caractéristiques (landmarks) par image : 63\n",
    "num_classes = len(np.unique(y_train))  # Nombre de classes : 4\n",
    "model = MLP(input_size, num_classes)\n",
    "print(model)  # Afficher la structure du modèle"
   ]
  },
  {
   "cell_type": "code",
   "execution_count": 769,
   "id": "5609665a-0da6-4f14-8654-1b1d992bddca",
   "metadata": {},
   "outputs": [
    {
     "name": "stdout",
     "output_type": "stream",
     "text": [
      "Nombre de landmarks pour l'image d'exemple : 63\n",
      "Prédiction de dimension 4\n",
      "Prediction : tensor([[0.2078, 0.2478, 0.2852, 0.2592]], grad_fn=<SoftmaxBackward0>)\n"
     ]
    }
   ],
   "source": [
    "# Inférer une image d'exemple avec le modèle\n",
    "dataiter = iter(train_loader)\n",
    "ex_images, labels = next(dataiter)\n",
    "ex_images = ex_images\n",
    "image = ex_images[0]\n",
    "print(f\"Nombre de landmarks pour l'image d'exemple : {image.shape[0]}\")\n",
    "outputs = model(image.unsqueeze(0))  # Ajouter la dimension batch\n",
    "print(f\"Prédiction de dimension {outputs.shape[1]}\")\n",
    "print(f\"Prediction : {outputs}\")"
   ]
  },
  {
   "cell_type": "markdown",
   "id": "f485bd51-67cb-4bcc-8d6f-9e942ebbb205",
   "metadata": {},
   "source": [
    "# **6. Entraînement du modèle**"
   ]
  },
  {
   "cell_type": "code",
   "execution_count": 772,
   "id": "cf96c294-4631-4a41-a0fd-526ec7fc525a",
   "metadata": {},
   "outputs": [],
   "source": [
    "# Fonction d'entraînement du modèle\n",
    "\n",
    "def train_model(model, trainloader, testloader, criterion, optimizer, num_epochs = 10) :\n",
    "\n",
    "    # Listes pour sauvegarder les métriques\n",
    "    train_losses = []\n",
    "    test_losses = []\n",
    "    test_accuracies = []\n",
    "\n",
    "    # Boucle d'entraînement\n",
    "    for epoch in range(num_epochs) :\n",
    "\n",
    "        # Phase d'entraînement\n",
    "        model.train() # Mode entraînement\n",
    "        running_loss = 0 # Pour sauvegarder la perte de l'epoch actuelle\n",
    "\n",
    "        bar = tqdm(enumerate(train_loader, 0), total = len(train_loader)) # Affichage de l'avancée de l'entraînement sur l'epoch actuelle\n",
    "        for i, data in bar :\n",
    "            inputs, labels = data # Récupération des features et labels de la batch actuelle\n",
    "            inputs, labels = inputs.to(device), labels.to(device)\n",
    "            optimizer.zero_grad() # Réinitialisation du gradient\n",
    "            outputs = model(inputs) # Passage des features de la batch en cours dans le modèle MLP\n",
    "            loss = criterion(outputs, labels) # Calcul de la perte entre les labels et les prédictions du modèle\n",
    "            loss.backward() # Backward pass\n",
    "            optimizer.step() # Mise à jour des poids\n",
    "            running_loss += loss.item() # Incrémentation de la perte totale de l'epoch actuelle\n",
    "\n",
    "        # Phase d'évaluation\n",
    "        model.eval() # Mode évaluation pour désactiver le calcul du gradient et gagner en ressources\n",
    "\n",
    "        # Métriques pour calculer la précision (accuracy) sur chaque epoch\n",
    "        test_loss = 0 # Pour le suivi de la perte\n",
    "        test_correct = 0 # Pour le suivi du nombre de bonnes prédictions\n",
    "        test_total = 0 # Pour le suivi du nombre total de prédictions\n",
    "\n",
    "        test_bar = tqdm(enumerate(test_loader, 0), total = len(test_loader)) # Affichage de l'avancée de l'évaluation sur l'époque actuelle\n",
    "        for i, data in test_bar:\n",
    "            inputs, labels = data # Récupération des features et labels de la batch actuelle\n",
    "            inputs, labels = inputs.to(device), labels.to(device)\n",
    "            outputs = model(inputs) # Passage des features dans le modèle MLP\n",
    "            test_loss += criterion(outputs, labels).item() # Calcul de la perte entre les labels et les prédictions du modèle\n",
    "            _, predicted = torch.max(outputs.data, 1) # Récupération des prédictions\n",
    "            test_total += labels.size(0) # Incrémentation du total de prédictions effectuées\n",
    "            test_correct += (predicted == labels).sum().item() # Incrémentation du total de prédictions correctes\n",
    "\n",
    "        # Afficher les métriques\n",
    "        train_loss = running_loss / len(train_loader)\n",
    "        test_loss = test_loss / len(test_loader)\n",
    "        test_acc = 100 * test_correct / test_total \n",
    "        print(f' Epoch {epoch+1}/{num_epochs}, '\n",
    "              f'Train Loss: {train_loss:.4f}, '\n",
    "              f'Test Loss: {test_loss:.4f},'\n",
    "              f'Test Acc: {test_acc:.2f} %, '\n",
    "              )\n",
    "\n",
    "        # Enregistrement des métriques\n",
    "        train_losses.append(train_loss)\n",
    "        test_losses.append(test_loss)\n",
    "        test_accuracies.append(test_acc)\n",
    "\n",
    "    return train_losses, test_losses, test_accuracies"
   ]
  },
  {
   "cell_type": "code",
   "execution_count": 774,
   "id": "de3593c8-32d7-4b42-8dcf-ba865c1b9e53",
   "metadata": {},
   "outputs": [],
   "source": [
    "# Définition des paramètres d'entraînement\n",
    "criterion = nn.CrossEntropyLoss()  # Perte adaptée pour la classification multiclasses\n",
    "optimizer = optim.Adam(model.parameters(), lr = 0.001)  # Optimiseur Adam et taux d'apprentissage de 0.001"
   ]
  },
  {
   "cell_type": "code",
   "execution_count": 776,
   "id": "03e6eef4-d74a-47df-ab4c-d7a52bd5177f",
   "metadata": {},
   "outputs": [
    {
     "name": "stderr",
     "output_type": "stream",
     "text": [
      "100%|██████████| 323/323 [00:04<00:00, 67.34it/s]\n",
      "100%|██████████| 58/58 [00:00<00:00, 160.02it/s]\n"
     ]
    },
    {
     "name": "stdout",
     "output_type": "stream",
     "text": [
      " Epoch 1/5, Train Loss: 0.9674, Test Loss: 0.9547,Test Acc: 78.29 %, \n"
     ]
    },
    {
     "name": "stderr",
     "output_type": "stream",
     "text": [
      "100%|██████████| 323/323 [00:05<00:00, 62.33it/s]\n",
      "100%|██████████| 58/58 [00:00<00:00, 172.52it/s]\n"
     ]
    },
    {
     "name": "stdout",
     "output_type": "stream",
     "text": [
      " Epoch 2/5, Train Loss: 0.8360, Test Loss: 0.9856,Test Acc: 75.07 %, \n"
     ]
    },
    {
     "name": "stderr",
     "output_type": "stream",
     "text": [
      "100%|██████████| 323/323 [00:07<00:00, 40.74it/s]\n",
      "100%|██████████| 58/58 [00:00<00:00, 228.69it/s]\n"
     ]
    },
    {
     "name": "stdout",
     "output_type": "stream",
     "text": [
      " Epoch 3/5, Train Loss: 0.8192, Test Loss: 0.9605,Test Acc: 77.52 %, \n"
     ]
    },
    {
     "name": "stderr",
     "output_type": "stream",
     "text": [
      "100%|██████████| 323/323 [00:07<00:00, 43.70it/s]\n",
      "100%|██████████| 58/58 [00:00<00:00, 197.08it/s]\n"
     ]
    },
    {
     "name": "stdout",
     "output_type": "stream",
     "text": [
      " Epoch 4/5, Train Loss: 0.8138, Test Loss: 1.0196,Test Acc: 71.74 %, \n"
     ]
    },
    {
     "name": "stderr",
     "output_type": "stream",
     "text": [
      "100%|██████████| 323/323 [00:07<00:00, 41.54it/s]\n",
      "100%|██████████| 58/58 [00:00<00:00, 158.27it/s]"
     ]
    },
    {
     "name": "stdout",
     "output_type": "stream",
     "text": [
      " Epoch 5/5, Train Loss: 0.8121, Test Loss: 0.9600,Test Acc: 77.63 %, \n"
     ]
    },
    {
     "name": "stderr",
     "output_type": "stream",
     "text": [
      "\n"
     ]
    }
   ],
   "source": [
    "# Lancement de l'entraînement du modèle\n",
    "train_losses, test_losses, test_accuracies = train_model(\n",
    "    model, train_loader, test_loader, criterion, optimizer, num_epochs)"
   ]
  },
  {
   "cell_type": "code",
   "execution_count": 778,
   "id": "609f6056-d995-4b43-925c-97b6d0ab7e69",
   "metadata": {},
   "outputs": [
    {
     "data": {
      "image/png": "[encoded data removed]",
      "text/plain": [
       "<Figure size 1200x400 with 2 Axes>"
      ]
     },
     "metadata": {},
     "output_type": "display_data"
    }
   ],
   "source": [
    "# Tracer les métriques d'entraînement et de test en fonction des epochs\n",
    "\n",
    "plt.figure(figsize = (12, 4))\n",
    "\n",
    "plt.subplot(1, 2, 1) # Graphique d'évolution des pertes d'entraînement et de test\n",
    "plt.plot(np.arange(1, num_epochs + 1, step = 1), train_losses, label = 'Train', linestyle = 'dashed', marker = 'o')\n",
    "plt.plot(np.arange(1, num_epochs + 1, step = 1), test_losses, label = 'Test', linestyle = 'dashed', marker = 'o')\n",
    "plt.title(\"Pertes d'entraînement et de test\")\n",
    "plt.xlabel('Epoch')\n",
    "plt.ylabel('Pertes')\n",
    "plt.legend()\n",
    "plt.gca().xaxis.set_major_locator(MultipleLocator(1))\n",
    "\n",
    "plt.subplot(1, 2, 2) # Graphique d'évolution de la précision (accuracy) de test\n",
    "plt.plot(np.arange(1, num_epochs + 1, step = 1), test_accuracies, linestyle = 'dashed', marker = 'o', color = 'red')\n",
    "plt.title('Précision de test')\n",
    "plt.xlabel('Epoch')\n",
    "plt.ylabel('Précision (%)')\n",
    "plt.gca().xaxis.set_major_locator(MultipleLocator(1))\n",
    "\n",
    "plt.tight_layout()\n",
    "plt.show()"
   ]
  },
  {
   "cell_type": "code",
   "execution_count": 780,
   "id": "b27fb96c-148b-4b58-8ac8-eb7b5854cee2",
   "metadata": {},
   "outputs": [],
   "source": [
    "# Enregistrement des poids du modèle entraîné\n",
    "\n",
    "torch.save(model.state_dict(), \"model.pth\")"
   ]
  },
  {
   "cell_type": "code",
   "execution_count": null,
   "id": "9650aafa-4c95-4914-a6b1-f02c4b03913b",
   "metadata": {},
   "outputs": [],
   "source": []
  }
 ],
 "metadata": {
  "kernelspec": {
   "display_name": "Python [conda env:base] *",
   "language": "python",
   "name": "conda-base-py"
  },
  "language_info": {
   "codemirror_mode": {
    "name": "ipython",
    "version": 3
   },
   "file_extension": ".py",
   "mimetype": "text/x-python",
   "name": "python",
   "nbconvert_exporter": "python",
   "pygments_lexer": "ipython3",
   "version": "3.11.7"
  }
 },
 "nbformat": 4,
 "nbformat_minor": 5
}
